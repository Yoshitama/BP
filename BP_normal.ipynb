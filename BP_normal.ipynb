{
 "cells": [
  {
   "cell_type": "code",
   "execution_count": 1,
   "metadata": {},
   "outputs": [],
   "source": [
    "import os\n",
    "import struct\n",
    "import numpy as np\n",
    "import matplotlib.pyplot as plt\n",
    "import random\n",
    "import math"
   ]
  },
  {
   "cell_type": "code",
   "execution_count": 2,
   "metadata": {},
   "outputs": [],
   "source": [
    "def load_mnist(path, kind=\"train\"):\n",
    "    labels_path = os.path.join(path, '%s-labels.idx1-ubyte' % kind)\n",
    "    images_path = os.path.join(path, '%s-images.idx3-ubyte' % kind)\n",
    " \n",
    "    with open(labels_path, 'rb') as lbpath:\n",
    "        magic, n = struct.unpack('>II', lbpath.read(8))\n",
    "        # 'I'表示一个无符号整数，大小为四个字节\n",
    "        # '>II'表示读取两个无符号整数，即8个字节\n",
    "        labels = np.fromfile(lbpath, dtype=np.uint8)\n",
    " \n",
    "    with open(images_path, 'rb') as imgpath:\n",
    "        magic, num, rows, cols =  struct.unpack('>IIII', imgpath.read(16))\n",
    "        images = np.fromfile(imgpath, dtype=np.uint8).reshape(len(labels), 784)\n",
    " \n",
    "    return images, labels"
   ]
  },
  {
   "cell_type": "code",
   "execution_count": 3,
   "metadata": {},
   "outputs": [],
   "source": [
    "X_train, y_train = load_mnist(\"mnist_dataset/\", kind=\"train\")\n",
    "X_test, y_test = load_mnist(\"mnist_dataset/\", kind=\"t10k\")"
   ]
  },
  {
   "cell_type": "code",
   "execution_count": 4,
   "metadata": {},
   "outputs": [],
   "source": [
    "def get_act(x):\n",
    "    act_vec = []\n",
    "    for i in x:\n",
    "        act_vec.append(1/(1+np.exp(-i)))\n",
    "    act_vec = np.array(act_vec)\n",
    "    return act_vec"
   ]
  },
  {
   "cell_type": "code",
   "execution_count": 5,
   "metadata": {},
   "outputs": [],
   "source": [
    "class NN_Mnist(object):\n",
    "    \n",
    "    def __init__(self, sizes):\n",
    "        self.inp_num = sizes[0]    # 输入层节点数\n",
    "        self.out_num = sizes[2]    # 输出节点数\n",
    "        self.hid_num = sizes[1]  # 隐层节点数\n",
    "        self.w1 = 0.2*np.random.random((self.inp_num, self.hid_num))- 0.1\n",
    "        self.w2 = 0.2*np.random.random((self.hid_num, self.out_num))- 0.1\n",
    "        self.hid_offset = np.zeros(self.hid_num)\n",
    "        self.out_offset = np.zeros(self.out_num)\n",
    "    def train(self,X_train,y_train,hid_lrate,inp_lrate):\n",
    "        X_train = np.array(X_train,dtype='float')\n",
    "        #均值归一化 易于收敛\n",
    "        X_train/=256\n",
    "        for count in range(len(X_train)):\n",
    "            t_label = np.zeros(self.out_num)\n",
    "            t_label[y_train[count]] = 1\n",
    "            #前向过程\n",
    "            \n",
    "            # 隐层值\n",
    "            self.hid_value = np.dot(X_train[count], self.w1) + self.hid_offset\n",
    "            # 隐层激活值\n",
    "            self.hid_act = get_act(self.hid_value)\n",
    "            # 输出层值\n",
    "            self.out_value = np.dot(self.hid_act, self.w2) + self.out_offset\n",
    "            # 输出层激活值\n",
    "            self.out_act = get_act(self.out_value)\n",
    "\n",
    "            #后向过程\n",
    "            # 输出值与真值间的误差\n",
    "            cost = t_label - self.out_act\n",
    "            # 输出层delta计算\n",
    "            out_delta = cost * self.out_act * (1-self.out_act)\n",
    "            # 隐层delta计算\n",
    "            hid_delta = self.hid_act * (1-self.hid_act) * np.dot(self.w2, out_delta)\n",
    "            # 更新隐层到输出层权向量\n",
    "            for i in range(0, self.out_num):\n",
    "                self.w2[:,i] += hid_lrate * out_delta[i] * self.hid_act\n",
    "            \n",
    "            # 更新输出层到隐层的权向量\n",
    "            for i in range(0, self.hid_num):\n",
    "                self.w1[:,i] += inp_lrate * hid_delta[i] * X_train[count]      \n",
    "            # 输出层偏置更新\n",
    "            self.out_offset += hid_lrate * out_delta                             \n",
    "            self.hid_offset += inp_lrate * hid_delta\n",
    "        print(\"Training complete.\")\n",
    "    def error(self,X,y):\n",
    "        X = np.array(X,dtype='float') \n",
    "        X/=256\n",
    "        temp=0\n",
    "        err_sample = []\n",
    "        for count in range(len(X)):\n",
    "            # 隐层值\n",
    "            self.hid_value = np.dot(X[count], self.w1) + self.hid_offset \n",
    "            # 隐层激活值\n",
    "            self.hid_act = get_act(self.hid_value)\n",
    "            # 输出层值\n",
    "            self.out_value = np.dot(self.hid_act, self.w2) + self.out_offset\n",
    "            # 输出层激活值\n",
    "            self.out_act = get_act(self.out_value)\n",
    "            if np.argmax(self.out_act) == y[count]:\n",
    "                temp+=1\n",
    "            else:\n",
    "                err_temp = []\n",
    "                err_temp.append(y[count])\n",
    "                err_sample.append(err_temp)\n",
    "        with open(\"err_label.txt\",'w') as f:\n",
    "            for item in err_sample:\n",
    "                f.write(str(item))\n",
    "                f.write('\\n')\n",
    "        print('Error is: %.2f%%'%((1-float(temp)/len(X))*100))"
   ]
  },
  {
   "cell_type": "code",
   "execution_count": 6,
   "metadata": {},
   "outputs": [],
   "source": [
    "network = NN_Mnist([784,30,10])"
   ]
  },
  {
   "cell_type": "code",
   "execution_count": 18,
   "metadata": {},
   "outputs": [
    {
     "name": "stdout",
     "output_type": "stream",
     "text": [
      "Training complete.\n"
     ]
    }
   ],
   "source": [
    "network.train(X_train,y_train,0.2,0.2)\n",
    "#network.error(X_train,y_train)"
   ]
  },
  {
   "cell_type": "code",
   "execution_count": 19,
   "metadata": {},
   "outputs": [
    {
     "name": "stdout",
     "output_type": "stream",
     "text": [
      "Error is: 6.76%\n"
     ]
    }
   ],
   "source": [
    "network.error(X_test,y_test)"
   ]
  },
  {
   "cell_type": "code",
   "execution_count": 51,
   "metadata": {},
   "outputs": [
    {
     "name": "stdout",
     "output_type": "stream",
     "text": [
      "Training complete.\n",
      "Error is: 3.93%\n"
     ]
    }
   ],
   "source": [
    "network.train(X_test,y_test,0.2,0.2)\n",
    "network.error(X_test,y_test)"
   ]
  },
  {
   "cell_type": "code",
   "execution_count": null,
   "metadata": {},
   "outputs": [],
   "source": []
  },
  {
   "cell_type": "code",
   "execution_count": 20,
   "metadata": {},
   "outputs": [],
   "source": [
    "Network = open(\"MyNetWork_order.txt\", 'w')\n",
    "Network.write(str(network.inp_num))\n",
    "Network.write('\\n')\n",
    "Network.write(str(network.hid_num))\n",
    "Network.write('\\n')\n",
    "Network.write(str(network.out_num))\n",
    "Network.write('\\n')\n",
    "Network.write(str(0.2)) \n",
    "Network.write('\\n')      \n",
    "Network.write(str(0.2)) \n",
    "Network.write('\\n')      \n",
    "              \n",
    "for i in network.w1:\n",
    "    for j in i:\n",
    "        Network.write(str(j))\n",
    "        Network.write(' ')\n",
    "    Network.write('\\n')\n",
    "\n",
    "for i in network.w2:\n",
    "    for j in i:\n",
    "        Network.write(str(j))\n",
    "        Network.write(' ')\n",
    "Network.write('\\n')\n",
    "\n",
    "for i in network.hid_offset:\n",
    "    Network.write(str(i))\n",
    "    Network.write(' ')\n",
    "Network.write('\\n')\n",
    "\n",
    "for i in network.out_offset:\n",
    "    Network.write(str(i))\n",
    "    Network.write(' ')\n",
    "Network.write('\\n')\n",
    "Network.close()"
   ]
  },
  {
   "cell_type": "code",
   "execution_count": 27,
   "metadata": {},
   "outputs": [],
   "source": [
    "from PIL import Image\n",
    "def MatrixToImage(data):\n",
    "    data = data*255\n",
    "    new_im = Image.fromarray(data.astype(np.uint8))\n",
    "    return new_im"
   ]
  },
  {
   "cell_type": "code",
   "execution_count": 43,
   "metadata": {},
   "outputs": [],
   "source": [
    "test = np.array(X_test[1])\n",
    "test = test.reshape(28,28)\n",
    "from PIL import Image\n",
    "im = Image.fromarray(test)\n",
    "im.save(\"b.bmp\")"
   ]
  },
  {
   "cell_type": "code",
   "execution_count": 53,
   "metadata": {},
   "outputs": [
    {
     "name": "stdout",
     "output_type": "stream",
     "text": [
      "Error is: 4.29%\n"
     ]
    }
   ],
   "source": [
    "network.error(X_train,y_train)"
   ]
  },
  {
   "cell_type": "code",
   "execution_count": 21,
   "metadata": {},
   "outputs": [
    {
     "data": {
      "text/plain": [
       "array([5, 0, 4, ..., 5, 6, 8], dtype=uint8)"
      ]
     },
     "execution_count": 21,
     "metadata": {},
     "output_type": "execute_result"
    }
   ],
   "source": [
    "y_train"
   ]
  }
 ],
 "metadata": {
  "kernelspec": {
   "display_name": "Python 3",
   "language": "python",
   "name": "python3"
  },
  "language_info": {
   "codemirror_mode": {
    "name": "ipython",
    "version": 3
   },
   "file_extension": ".py",
   "mimetype": "text/x-python",
   "name": "python",
   "nbconvert_exporter": "python",
   "pygments_lexer": "ipython3",
   "version": "3.6.3"
  }
 },
 "nbformat": 4,
 "nbformat_minor": 2
}
