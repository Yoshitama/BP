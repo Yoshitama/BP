{
 "cells": [
  {
   "cell_type": "code",
   "execution_count": 1,
   "metadata": {},
   "outputs": [],
   "source": [
    "import math\n",
    "import numpy as np\n",
    "import re\n",
    "from PIL import Image\n",
    "import os\n",
    "import struct\n",
    "import matplotlib.pyplot as plt\n",
    "import random\n",
    "import time\n",
    "import cv2 as cv"
   ]
  },
  {
   "cell_type": "code",
   "execution_count": 2,
   "metadata": {},
   "outputs": [],
   "source": [
    "def load_mnist(path, kind=\"train\"):\n",
    "    labels_path = os.path.join(path, '%s-labels.idx1-ubyte' % kind)\n",
    "    images_path = os.path.join(path, '%s-images.idx3-ubyte' % kind)\n",
    " \n",
    "    with open(labels_path, 'rb') as lbpath:\n",
    "        magic, n = struct.unpack('>II', lbpath.read(8))\n",
    "        # 'I'表示一个无符号整数，大小为四个字节\n",
    "        # '>II'表示读取两个无符号整数，即8个字节\n",
    "        labels = np.fromfile(lbpath, dtype=np.uint8)\n",
    " \n",
    "    with open(images_path, 'rb') as imgpath:\n",
    "        magic, num, rows, cols =  struct.unpack('>IIII', imgpath.read(16))\n",
    "        images = np.fromfile(imgpath, dtype=np.uint8).reshape(len(labels), 784)\n",
    " \n",
    "    return images, labels"
   ]
  },
  {
   "cell_type": "code",
   "execution_count": 3,
   "metadata": {},
   "outputs": [],
   "source": [
    "X_train, y_train = load_mnist(\"mnist_dataset/\", kind=\"train\")\n",
    "X_test, y_test = load_mnist(\"mnist_dataset/\", kind=\"t10k\")"
   ]
  },
  {
   "cell_type": "code",
   "execution_count": 4,
   "metadata": {},
   "outputs": [],
   "source": [
    "def get_act(x):\n",
    "    act_vec = []\n",
    "    for i in x:\n",
    "        act_vec.append(1/(1+np.exp(-i)))\n",
    "    act_vec = np.array(act_vec)\n",
    "    return act_vec"
   ]
  },
  {
   "cell_type": "code",
   "execution_count": 5,
   "metadata": {},
   "outputs": [],
   "source": [
    "class LoadNN(object):\n",
    "    \n",
    "    def __init__(self,filename):\n",
    "        args = []\n",
    "        with open(filename,'r') as f:\n",
    "            while True:\n",
    "                line = f.readline()\n",
    "                if not line:\n",
    "                    break\n",
    "                pass\n",
    "                args.append(line.strip())\n",
    "        self.inp_num = int(args[0])\n",
    "        self.hid_num = int(args[1])\n",
    "        self.out_num = int(args[2])\n",
    "        self.inp_lrate = float(args[3])\n",
    "        self.hid_lrate = float(args[4])\n",
    "        self.cost_time = []\n",
    "\n",
    "        w_temp = []\n",
    "        for i in range(5, 5 + self.inp_num):\n",
    "            s1 = re.split(' ',args[i])\n",
    "            for j in s1:\n",
    "                w_temp.append(float(j))\n",
    "        self.w1 = np.array(w_temp).reshape(self.inp_num, int(len(w_temp)/self.inp_num))\n",
    "        print(self.w1.shape)\n",
    "\n",
    "        w_temp = []\n",
    "        s1 = re.split(' ', args[5 + self.inp_num])\n",
    "        for j in s1:\n",
    "            w_temp.append(float(j))\n",
    "        self.w2 = np.array(w_temp).reshape(int(len(w_temp)/self.out_num),self.out_num)\n",
    "        print(self.w2.shape)\n",
    "\n",
    "        off_temp = []\n",
    "        s1 = re.split(' ', args[5 + self.inp_num + 1])\n",
    "        for j in s1:\n",
    "            off_temp.append(float(j))\n",
    "        self.hid_offset = np.array(off_temp)\n",
    "        print(self.hid_offset.shape)\n",
    "\n",
    "        off_temp = []\n",
    "        s1 = re.split(' ', args[5 + self.inp_num + 2])\n",
    "        for j in s1:\n",
    "            off_temp.append(float(j))\n",
    "        self.out_offset = np.array(off_temp)\n",
    "        print(self.out_offset.shape)\n",
    "    def getrs(self,img):\n",
    "        img = np.array(img)\n",
    "        hid_value = np.dot(img,self.w1) + self.hid_offset\n",
    "        hid_act = get_act(hid_value)\n",
    "        out_value = np.dot(hid_act,self.w2) + self.out_offset\n",
    "        out_act = get_act(out_value)\n",
    "        print('predict:',np.argmax(out_act))\n",
    "    def error(self,X,y):\n",
    "        X = np.array(X,dtype='float') \n",
    "        X/=256\n",
    "        temp=0\n",
    "        err_sample = []\n",
    "        for count in range(len(X)):\n",
    "            start_time = time.time()\n",
    "            # 隐层值\n",
    "            self.hid_value = np.dot(X[count], self.w1) + self.hid_offset \n",
    "            # 隐层激活值\n",
    "            self.hid_act = get_act(self.hid_value)\n",
    "            # 输出层值\n",
    "            self.out_value = np.dot(self.hid_act, self.w2) + self.out_offset\n",
    "            # 输出层激活值\n",
    "            self.out_act = get_act(self.out_value)\n",
    "            if np.argmax(self.out_act) == y[count]:\n",
    "                temp+=1\n",
    "            else:\n",
    "                err_temp = []\n",
    "                err_temp.append(y[count])\n",
    "                err_sample.append(err_temp)\n",
    "            end_time = time.time()\n",
    "            self.cost_time.append(end_time - start_time)\n",
    "            \n",
    "        with open(\"err_label.txt\",'w') as f:\n",
    "            for item in err_sample:\n",
    "                f.write(str(item))\n",
    "                f.write('\\n')\n",
    "        print('Error is: %.2f%%'%((1-float(temp)/len(X))*100))"
   ]
  },
  {
   "cell_type": "code",
   "execution_count": 6,
   "metadata": {},
   "outputs": [
    {
     "name": "stdout",
     "output_type": "stream",
     "text": [
      "(784, 128)\n",
      "(128, 10)\n",
      "(128,)\n",
      "(10,)\n"
     ]
    }
   ],
   "source": [
    "network = LoadNN(\"MyNetWork_mini_bath_128node_1.txt\")"
   ]
  },
  {
   "cell_type": "code",
   "execution_count": 7,
   "metadata": {},
   "outputs": [
    {
     "name": "stdout",
     "output_type": "stream",
     "text": [
      "Error is: 3.51%\n"
     ]
    }
   ],
   "source": [
    "network.error(X_test,y_test)"
   ]
  },
  {
   "cell_type": "code",
   "execution_count": 8,
   "metadata": {},
   "outputs": [],
   "source": [
    "image = cv.imread('demo_rev.jpg',cv.IMREAD_GRAYSCALE)\n",
    "res = cv.resize(image,(28,28),interpolation=cv.INTER_CUBIC)"
   ]
  },
  {
   "cell_type": "code",
   "execution_count": 9,
   "metadata": {},
   "outputs": [
    {
     "name": "stdout",
     "output_type": "stream",
     "text": [
      "predict: 3\n"
     ]
    }
   ],
   "source": [
    "network.getrs(res.reshape(1,784))"
   ]
  },
  {
   "cell_type": "code",
   "execution_count": 11,
   "metadata": {},
   "outputs": [
    {
     "name": "stdout",
     "output_type": "stream",
     "text": [
      "predict: 3\n"
     ]
    }
   ],
   "source": [
    "X = np.array(res,dtype='float')\n",
    "X = X.reshape(784,-1)\n",
    "X = [0 if i < 16 else i/256 for i in X]\n",
    "X = np.array(X,dtype='float')\n",
    "X = X.reshape(1,784)\n",
    "X = np.array(X,dtype='float')\n",
    "network.getrs(X)"
   ]
  }
 ],
 "metadata": {
  "kernelspec": {
   "display_name": "Python 3",
   "language": "python",
   "name": "python3"
  },
  "language_info": {
   "codemirror_mode": {
    "name": "ipython",
    "version": 3
   },
   "file_extension": ".py",
   "mimetype": "text/x-python",
   "name": "python",
   "nbconvert_exporter": "python",
   "pygments_lexer": "ipython3",
   "version": "3.6.3"
  }
 },
 "nbformat": 4,
 "nbformat_minor": 2
}
