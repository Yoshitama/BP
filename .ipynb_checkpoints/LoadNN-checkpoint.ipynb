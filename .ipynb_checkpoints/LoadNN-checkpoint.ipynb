{
 "cells": [
  {
   "cell_type": "code",
   "execution_count": 1,
   "metadata": {},
   "outputs": [],
   "source": [
    "import math\n",
    "import numpy as np\n",
    "import re\n",
    "from PIL import Image\n",
    "import os"
   ]
  },
  {
   "cell_type": "code",
   "execution_count": 2,
   "metadata": {},
   "outputs": [],
   "source": [
    "def get_act(x):\n",
    "    act_vec = []\n",
    "    for i in x:\n",
    "        act_vec.append(1/(1+math.exp(-i)))\n",
    "    act_vec = np.array(act_vec)\n",
    "    return act_vec"
   ]
  },
  {
   "cell_type": "code",
   "execution_count": 3,
   "metadata": {},
   "outputs": [],
   "source": [
    "class LoadNN(object):\n",
    "    \n",
    "    def __init__(self,filename):\n",
    "        args = []\n",
    "        with open(filename,'r') as f:\n",
    "            while True:\n",
    "                line = f.readline()\n",
    "                if not line:\n",
    "                    break\n",
    "                pass\n",
    "                args.append(line.strip())\n",
    "        self.inp_num = int(args[0])\n",
    "        self.hid_num = int(args[1])\n",
    "        self.out_num = int(args[2])\n",
    "        self.inp_lrate = float(args[3])\n",
    "        self.hid_lrate = float(args[4])\n",
    "\n",
    "        w_temp = []\n",
    "        for i in range(5, 5 + self.inp_num):\n",
    "            s1 = re.split(' ',args[i])\n",
    "            for j in s1:\n",
    "                w_temp.append(float(j))\n",
    "        self.w1 = np.array(w_temp).reshape(self.inp_num, int(len(w_temp)/self.inp_num))\n",
    "        print(self.w1.shape)\n",
    "\n",
    "        w_temp = []\n",
    "        s1 = re.split(' ', args[5 + self.inp_num])\n",
    "        for j in s1:\n",
    "            w_temp.append(float(j))\n",
    "        self.w2 = np.array(w_temp).reshape(int(len(w_temp)/self.out_num),self.out_num)\n",
    "        print(self.w2.shape)\n",
    "\n",
    "        off_temp = []\n",
    "        s1 = re.split(' ', args[5 + self.inp_num + 1])\n",
    "        for j in s1:\n",
    "            off_temp.append(float(j))\n",
    "        self.hid_offset = np.array(off_temp)\n",
    "        print(self.hid_offset.shape)\n",
    "\n",
    "        off_temp = []\n",
    "        s1 = re.split(' ', args[5 + self.inp_num + 2])\n",
    "        for j in s1:\n",
    "            off_temp.append(float(j))\n",
    "        self.out_offset = np.array(off_temp)\n",
    "        print(self.out_offset.shape)\n",
    "    def getrs(self,img):\n",
    "        img = np.array(img)\n",
    "        hid_value = np.dot(img,self.w1) + self.hid_offset\n",
    "        hid_act = get_act(hid_value)\n",
    "        out_value = np.dot(hid_act,self.w2) + self.out_offset\n",
    "        out_act = get_act(out_value)\n",
    "        print('predict:',np.argmax(out_act))"
   ]
  },
  {
   "cell_type": "code",
   "execution_count": 4,
   "metadata": {},
   "outputs": [],
   "source": [
    "def get_img(filename):\n",
    "    im = Image.open(filename)\n",
    "    im_data = np.array(im,dtype='float')\n",
    "    im_temp = []\n",
    "    for i in im_data:\n",
    "        temp = []\n",
    "        for j in i:\n",
    "            if j == 0:\n",
    "                temp.append(1)\n",
    "            else:\n",
    "                temp.append(0)\n",
    "        im_temp.append(temp)\n",
    "    im_temp = np.array(im_temp)\n",
    "    return im_temp.reshape(28*28)"
   ]
  },
  {
   "cell_type": "code",
   "execution_count": 5,
   "metadata": {},
   "outputs": [
    {
     "name": "stdout",
     "output_type": "stream",
     "text": [
      "(784, 128)\n",
      "(128, 10)\n",
      "(128,)\n",
      "(10,)\n"
     ]
    }
   ],
   "source": [
    "network = LoadNN(\"MyNetWork_mini_bath_128node_1.txt\")"
   ]
  },
  {
   "cell_type": "code",
   "execution_count": 6,
   "metadata": {},
   "outputs": [
    {
     "name": "stdout",
     "output_type": "stream",
     "text": [
      "predict: 4\n"
     ]
    }
   ],
   "source": [
    "img = get_img(\"4.bmp\")\n",
    "network.getrs(img)"
   ]
  }
 ],
 "metadata": {
  "kernelspec": {
   "display_name": "Python 3",
   "language": "python",
   "name": "python3"
  },
  "language_info": {
   "codemirror_mode": {
    "name": "ipython",
    "version": 3
   },
   "file_extension": ".py",
   "mimetype": "text/x-python",
   "name": "python",
   "nbconvert_exporter": "python",
   "pygments_lexer": "ipython3",
   "version": "3.6.3"
  }
 },
 "nbformat": 4,
 "nbformat_minor": 2
}
